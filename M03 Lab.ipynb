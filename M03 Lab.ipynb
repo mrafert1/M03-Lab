{
  "cells": [
    {
      "cell_type": "code",
      "execution_count": null,
      "metadata": {
        "trusted": true
      },
      "outputs": [
        {
          "name": "stdout",
          "output_type": "stream",
          "text": [
            "Vehicle type: car\n",
            "Year: <PyodideFuture pending cb=[WebLoop._decrement_in_progress()]>\n",
            "Make: <PyodideFuture pending cb=[WebLoop._decrement_in_progress()]>\n",
            "Model: <PyodideFuture pending cb=[WebLoop._decrement_in_progress()]>\n",
            "Number of doors: <PyodideFuture pending cb=[WebLoop._decrement_in_progress()]>\n",
            "Type of roof: <PyodideFuture pending cb=[WebLoop._decrement_in_progress()]>\n"
          ]
        }
      ],
      "source": [
        "##Max Rafert\n",
        "##M03 Class Lab\n",
        "\n",
        "##The purpose of this program is to create a form that will accept user inputed values\n",
        "##that detail a car and return those values in an easy to read format.\n",
        "\n",
        "##Define class called Vehicle and initialize \n",
        "class Vehicle:\n",
        "      def __init__(self, vehicle_type):\n",
        "        self.vehicle_type = vehicle_type\n",
        "\n",
        "##Define class called Automobile. Inherits from Vehicle\n",
        "class Automobile(Vehicle):\n",
        "    ##Initialize for year, make, model, doors, and roof\n",
        "    def __init__(self, vehicle_type, year, make, model, doors, roof):\n",
        "        super().__init__(vehicle_type)\n",
        "        self.year = year\n",
        "        self.make = make\n",
        "        self.model = model\n",
        "        self.doors = doors\n",
        "        self.roof = roof\n",
        "\n",
        "    ##Define a display method\n",
        "    def display_data(self):\n",
        "        print(f\"Vehicle Type: {self.vehicle_type}\")\n",
        "        print(f\"Year: {self.year}\")\n",
        "        print(f\"Make: {self.make}\")\n",
        "        print(f\"Model: {self.model}\")\n",
        "        print(f\"Number of Doors: {self.doors}\")\n",
        "        print(f\"Type of Roof: {self.roof}\")\n",
        "\n",
        "##Create app that accepts user input for car\n",
        "##Store car attribute to vehicle type\n",
        "vehicle_type = \"car\"\n",
        "\n",
        "##Ask user for following inputs\n",
        "year = input(\"Enter the Year of the Car: \")\n",
        "make = input(\"Enter the Make of the Car: \")\n",
        "model = input(\"Enter the Model number of the Car: \")\n",
        "doors = input(\"Enter the Number of Doors for the Car (2 or 4): \")\n",
        "roof = input(\"Enter the Type of Roof of the Car (solid or sun roof): \")\n",
        "\n",
        "##Create instance for automobile with user inputed values\n",
        "car = Automobile(vehicle_type, year, make, model, doors, roof)\n",
        "\n",
        "##Display the data\n",
        "car.display_data()"
      ]
    },
    {
      "cell_type": "code",
      "execution_count": null,
      "metadata": {},
      "outputs": [],
      "source": []
    }
  ],
  "metadata": {
    "kernelspec": {
      "display_name": "Python (Pyodide)",
      "language": "python",
      "name": "python"
    },
    "language_info": {
      "codemirror_mode": {
        "name": "python",
        "version": 3
      },
      "file_extension": ".py",
      "mimetype": "text/x-python",
      "name": "python",
      "nbconvert_exporter": "python",
      "pygments_lexer": "ipython3",
      "version": "3.8"
    }
  },
  "nbformat": 4,
  "nbformat_minor": 4
}
